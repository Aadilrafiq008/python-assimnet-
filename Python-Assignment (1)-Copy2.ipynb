{
 "cells": [
  {
   "cell_type": "code",
   "execution_count": 1,
   "metadata": {},
   "outputs": [],
   "source": [
    "#import all libraries\n",
    "import numpy as np\n",
    "import pandas as pd"
   ]
  },
  {
   "cell_type": "code",
   "execution_count": 3,
   "metadata": {},
   "outputs": [],
   "source": [
    "try:\n",
    "    ideal_df = pd.read_csv(\"ideal.csv\")\n",
    "    test_df = pd.read_csv(\"test.csv\")\n",
    "    train_df = pd.read_csv(\"train.csv\")\n",
    "except:\n",
    "    print(\"please enter the correct location\")"
   ]
  },
  {
   "cell_type": "code",
   "execution_count": 4,
   "metadata": {},
   "outputs": [
    {
     "name": "stdout",
     "output_type": "stream",
     "text": [
      "<class 'pandas.core.frame.DataFrame'>\n",
      "RangeIndex: 400 entries, 0 to 399\n",
      "Data columns (total 5 columns):\n",
      " #   Column  Non-Null Count  Dtype  \n",
      "---  ------  --------------  -----  \n",
      " 0   x       400 non-null    float64\n",
      " 1   y1      400 non-null    float64\n",
      " 2   y2      400 non-null    float64\n",
      " 3   y3      400 non-null    float64\n",
      " 4   y4      400 non-null    float64\n",
      "dtypes: float64(5)\n",
      "memory usage: 15.8 KB\n"
     ]
    }
   ],
   "source": [
    "train_df.info()"
   ]
  },
  {
   "cell_type": "code",
   "execution_count": 5,
   "metadata": {},
   "outputs": [
    {
     "name": "stdout",
     "output_type": "stream",
     "text": [
      "(400, 5)\n",
      "(400, 51)\n",
      "(100, 2)\n"
     ]
    }
   ],
   "source": [
    "print(train_df.shape)\n",
    "print(ideal_df.shape)\n",
    "print(test_df.shape)"
   ]
  },
  {
   "cell_type": "code",
   "execution_count": 6,
   "metadata": {},
   "outputs": [
    {
     "data": {
      "text/html": [
       "<div>\n",
       "<style scoped>\n",
       "    .dataframe tbody tr th:only-of-type {\n",
       "        vertical-align: middle;\n",
       "    }\n",
       "\n",
       "    .dataframe tbody tr th {\n",
       "        vertical-align: top;\n",
       "    }\n",
       "\n",
       "    .dataframe thead th {\n",
       "        text-align: right;\n",
       "    }\n",
       "</style>\n",
       "<table border=\"1\" class=\"dataframe\">\n",
       "  <thead>\n",
       "    <tr style=\"text-align: right;\">\n",
       "      <th></th>\n",
       "      <th>x</th>\n",
       "      <th>y1</th>\n",
       "      <th>y2</th>\n",
       "      <th>y3</th>\n",
       "      <th>y4</th>\n",
       "    </tr>\n",
       "  </thead>\n",
       "  <tbody>\n",
       "    <tr>\n",
       "      <th>0</th>\n",
       "      <td>-20.0</td>\n",
       "      <td>-5832.4604</td>\n",
       "      <td>-8794.779</td>\n",
       "      <td>-7999.8228</td>\n",
       "      <td>-8020.4204</td>\n",
       "    </tr>\n",
       "    <tr>\n",
       "      <th>1</th>\n",
       "      <td>-19.9</td>\n",
       "      <td>-5735.1480</td>\n",
       "      <td>-8667.201</td>\n",
       "      <td>-7880.6210</td>\n",
       "      <td>-7900.2250</td>\n",
       "    </tr>\n",
       "    <tr>\n",
       "      <th>2</th>\n",
       "      <td>-19.8</td>\n",
       "      <td>-5639.3500</td>\n",
       "      <td>-8541.552</td>\n",
       "      <td>-7762.0770</td>\n",
       "      <td>-7782.5980</td>\n",
       "    </tr>\n",
       "    <tr>\n",
       "      <th>3</th>\n",
       "      <td>-19.7</td>\n",
       "      <td>-5545.1553</td>\n",
       "      <td>-8416.552</td>\n",
       "      <td>-7645.2417</td>\n",
       "      <td>-7665.4680</td>\n",
       "    </tr>\n",
       "    <tr>\n",
       "      <th>4</th>\n",
       "      <td>-19.6</td>\n",
       "      <td>-5452.0140</td>\n",
       "      <td>-8292.784</td>\n",
       "      <td>-7529.6590</td>\n",
       "      <td>-7549.2524</td>\n",
       "    </tr>\n",
       "  </tbody>\n",
       "</table>\n",
       "</div>"
      ],
      "text/plain": [
       "      x         y1        y2         y3         y4\n",
       "0 -20.0 -5832.4604 -8794.779 -7999.8228 -8020.4204\n",
       "1 -19.9 -5735.1480 -8667.201 -7880.6210 -7900.2250\n",
       "2 -19.8 -5639.3500 -8541.552 -7762.0770 -7782.5980\n",
       "3 -19.7 -5545.1553 -8416.552 -7645.2417 -7665.4680\n",
       "4 -19.6 -5452.0140 -8292.784 -7529.6590 -7549.2524"
      ]
     },
     "execution_count": 6,
     "metadata": {},
     "output_type": "execute_result"
    }
   ],
   "source": [
    "train_df.head()"
   ]
  },
  {
   "cell_type": "code",
   "execution_count": 7,
   "metadata": {},
   "outputs": [
    {
     "data": {
      "text/html": [
       "<div>\n",
       "<style scoped>\n",
       "    .dataframe tbody tr th:only-of-type {\n",
       "        vertical-align: middle;\n",
       "    }\n",
       "\n",
       "    .dataframe tbody tr th {\n",
       "        vertical-align: top;\n",
       "    }\n",
       "\n",
       "    .dataframe thead th {\n",
       "        text-align: right;\n",
       "    }\n",
       "</style>\n",
       "<table border=\"1\" class=\"dataframe\">\n",
       "  <thead>\n",
       "    <tr style=\"text-align: right;\">\n",
       "      <th></th>\n",
       "      <th>x</th>\n",
       "      <th>y</th>\n",
       "    </tr>\n",
       "  </thead>\n",
       "  <tbody>\n",
       "    <tr>\n",
       "      <th>0</th>\n",
       "      <td>7.8</td>\n",
       "      <td>941.05115</td>\n",
       "    </tr>\n",
       "    <tr>\n",
       "      <th>1</th>\n",
       "      <td>5.4</td>\n",
       "      <td>156.80476</td>\n",
       "    </tr>\n",
       "    <tr>\n",
       "      <th>2</th>\n",
       "      <td>-16.7</td>\n",
       "      <td>-4672.91400</td>\n",
       "    </tr>\n",
       "    <tr>\n",
       "      <th>3</th>\n",
       "      <td>6.9</td>\n",
       "      <td>-5916.52500</td>\n",
       "    </tr>\n",
       "    <tr>\n",
       "      <th>4</th>\n",
       "      <td>9.0</td>\n",
       "      <td>1331.09310</td>\n",
       "    </tr>\n",
       "  </tbody>\n",
       "</table>\n",
       "</div>"
      ],
      "text/plain": [
       "      x           y\n",
       "0   7.8   941.05115\n",
       "1   5.4   156.80476\n",
       "2 -16.7 -4672.91400\n",
       "3   6.9 -5916.52500\n",
       "4   9.0  1331.09310"
      ]
     },
     "execution_count": 7,
     "metadata": {},
     "output_type": "execute_result"
    }
   ],
   "source": [
    "test_df.head()"
   ]
  },
  {
   "cell_type": "code",
   "execution_count": 8,
   "metadata": {},
   "outputs": [
    {
     "data": {
      "text/html": [
       "<div>\n",
       "<style scoped>\n",
       "    .dataframe tbody tr th:only-of-type {\n",
       "        vertical-align: middle;\n",
       "    }\n",
       "\n",
       "    .dataframe tbody tr th {\n",
       "        vertical-align: top;\n",
       "    }\n",
       "\n",
       "    .dataframe thead th {\n",
       "        text-align: right;\n",
       "    }\n",
       "</style>\n",
       "<table border=\"1\" class=\"dataframe\">\n",
       "  <thead>\n",
       "    <tr style=\"text-align: right;\">\n",
       "      <th></th>\n",
       "      <th>x</th>\n",
       "      <th>y1</th>\n",
       "      <th>y2</th>\n",
       "      <th>y3</th>\n",
       "      <th>y4</th>\n",
       "      <th>y5</th>\n",
       "      <th>y6</th>\n",
       "      <th>y7</th>\n",
       "      <th>y8</th>\n",
       "      <th>y9</th>\n",
       "      <th>y10</th>\n",
       "      <th>y11</th>\n",
       "      <th>y12</th>\n",
       "      <th>y13</th>\n",
       "      <th>y14</th>\n",
       "      <th>y15</th>\n",
       "      <th>y16</th>\n",
       "      <th>y17</th>\n",
       "      <th>y18</th>\n",
       "      <th>y19</th>\n",
       "      <th>y20</th>\n",
       "      <th>y21</th>\n",
       "      <th>y22</th>\n",
       "      <th>y23</th>\n",
       "      <th>y24</th>\n",
       "      <th>y25</th>\n",
       "      <th>y26</th>\n",
       "      <th>y27</th>\n",
       "      <th>y28</th>\n",
       "      <th>y29</th>\n",
       "      <th>y30</th>\n",
       "      <th>y31</th>\n",
       "      <th>y32</th>\n",
       "      <th>y33</th>\n",
       "      <th>y34</th>\n",
       "      <th>y35</th>\n",
       "      <th>y36</th>\n",
       "      <th>y37</th>\n",
       "      <th>y38</th>\n",
       "      <th>y39</th>\n",
       "      <th>y40</th>\n",
       "      <th>y41</th>\n",
       "      <th>y42</th>\n",
       "      <th>y43</th>\n",
       "      <th>y44</th>\n",
       "      <th>y45</th>\n",
       "      <th>y46</th>\n",
       "      <th>y47</th>\n",
       "      <th>y48</th>\n",
       "      <th>y49</th>\n",
       "      <th>y50</th>\n",
       "    </tr>\n",
       "  </thead>\n",
       "  <tbody>\n",
       "    <tr>\n",
       "      <th>0</th>\n",
       "      <td>-20.0</td>\n",
       "      <td>-0.912945</td>\n",
       "      <td>0.408082</td>\n",
       "      <td>9.087055</td>\n",
       "      <td>5.408082</td>\n",
       "      <td>-9.087055</td>\n",
       "      <td>0.912945</td>\n",
       "      <td>-0.839071</td>\n",
       "      <td>-0.850919</td>\n",
       "      <td>0.816164</td>\n",
       "      <td>18.258905</td>\n",
       "      <td>-20.0</td>\n",
       "      <td>-58.0</td>\n",
       "      <td>-45.0</td>\n",
       "      <td>20.0</td>\n",
       "      <td>13.00</td>\n",
       "      <td>400.00</td>\n",
       "      <td>-400.00</td>\n",
       "      <td>800.00</td>\n",
       "      <td>410.00</td>\n",
       "      <td>289.00</td>\n",
       "      <td>-8000.000</td>\n",
       "      <td>8000.000</td>\n",
       "      <td>8000.000</td>\n",
       "      <td>-16000.000</td>\n",
       "      <td>-23995.000</td>\n",
       "      <td>-5832.000</td>\n",
       "      <td>10648.000</td>\n",
       "      <td>-8020.000</td>\n",
       "      <td>-7600.000</td>\n",
       "      <td>-8795.000</td>\n",
       "      <td>20.0</td>\n",
       "      <td>4.472136</td>\n",
       "      <td>20.124610</td>\n",
       "      <td>-0.746414</td>\n",
       "      <td>10.0</td>\n",
       "      <td>100.0</td>\n",
       "      <td>-20.0</td>\n",
       "      <td>-1.321027</td>\n",
       "      <td>399.08707</td>\n",
       "      <td>899.5919</td>\n",
       "      <td>-40.456474</td>\n",
       "      <td>40.20404</td>\n",
       "      <td>2.995732</td>\n",
       "      <td>-0.008333</td>\n",
       "      <td>12.995732</td>\n",
       "      <td>5.298317</td>\n",
       "      <td>-5.298317</td>\n",
       "      <td>-0.186278</td>\n",
       "      <td>0.912945</td>\n",
       "      <td>0.396850</td>\n",
       "    </tr>\n",
       "    <tr>\n",
       "      <th>1</th>\n",
       "      <td>-19.9</td>\n",
       "      <td>-0.867644</td>\n",
       "      <td>0.497186</td>\n",
       "      <td>9.132356</td>\n",
       "      <td>5.497186</td>\n",
       "      <td>-9.132356</td>\n",
       "      <td>0.867644</td>\n",
       "      <td>-0.865213</td>\n",
       "      <td>0.168518</td>\n",
       "      <td>0.994372</td>\n",
       "      <td>17.266117</td>\n",
       "      <td>-19.9</td>\n",
       "      <td>-57.7</td>\n",
       "      <td>-44.8</td>\n",
       "      <td>19.9</td>\n",
       "      <td>12.95</td>\n",
       "      <td>396.01</td>\n",
       "      <td>-396.01</td>\n",
       "      <td>792.02</td>\n",
       "      <td>406.01</td>\n",
       "      <td>285.61</td>\n",
       "      <td>-7880.599</td>\n",
       "      <td>7880.599</td>\n",
       "      <td>7880.599</td>\n",
       "      <td>-15761.198</td>\n",
       "      <td>-23636.797</td>\n",
       "      <td>-5735.339</td>\n",
       "      <td>10503.459</td>\n",
       "      <td>-7900.499</td>\n",
       "      <td>-7484.589</td>\n",
       "      <td>-8667.619</td>\n",
       "      <td>19.9</td>\n",
       "      <td>4.460942</td>\n",
       "      <td>20.025234</td>\n",
       "      <td>-0.620450</td>\n",
       "      <td>9.9</td>\n",
       "      <td>99.5</td>\n",
       "      <td>-19.9</td>\n",
       "      <td>-1.364830</td>\n",
       "      <td>395.14236</td>\n",
       "      <td>893.5128</td>\n",
       "      <td>-40.233820</td>\n",
       "      <td>40.04859</td>\n",
       "      <td>2.990720</td>\n",
       "      <td>-0.008340</td>\n",
       "      <td>12.990720</td>\n",
       "      <td>5.293305</td>\n",
       "      <td>-5.293305</td>\n",
       "      <td>-0.215690</td>\n",
       "      <td>0.867644</td>\n",
       "      <td>0.476954</td>\n",
       "    </tr>\n",
       "  </tbody>\n",
       "</table>\n",
       "</div>"
      ],
      "text/plain": [
       "      x        y1        y2        y3        y4        y5        y6        y7  \\\n",
       "0 -20.0 -0.912945  0.408082  9.087055  5.408082 -9.087055  0.912945 -0.839071   \n",
       "1 -19.9 -0.867644  0.497186  9.132356  5.497186 -9.132356  0.867644 -0.865213   \n",
       "\n",
       "         y8        y9        y10   y11   y12   y13   y14    y15     y16  \\\n",
       "0 -0.850919  0.816164  18.258905 -20.0 -58.0 -45.0  20.0  13.00  400.00   \n",
       "1  0.168518  0.994372  17.266117 -19.9 -57.7 -44.8  19.9  12.95  396.01   \n",
       "\n",
       "      y17     y18     y19     y20       y21       y22       y23        y24  \\\n",
       "0 -400.00  800.00  410.00  289.00 -8000.000  8000.000  8000.000 -16000.000   \n",
       "1 -396.01  792.02  406.01  285.61 -7880.599  7880.599  7880.599 -15761.198   \n",
       "\n",
       "         y25       y26        y27       y28       y29       y30   y31  \\\n",
       "0 -23995.000 -5832.000  10648.000 -8020.000 -7600.000 -8795.000  20.0   \n",
       "1 -23636.797 -5735.339  10503.459 -7900.499 -7484.589 -8667.619  19.9   \n",
       "\n",
       "        y32        y33       y34   y35    y36   y37       y38        y39  \\\n",
       "0  4.472136  20.124610 -0.746414  10.0  100.0 -20.0 -1.321027  399.08707   \n",
       "1  4.460942  20.025234 -0.620450   9.9   99.5 -19.9 -1.364830  395.14236   \n",
       "\n",
       "        y40        y41       y42       y43       y44        y45       y46  \\\n",
       "0  899.5919 -40.456474  40.20404  2.995732 -0.008333  12.995732  5.298317   \n",
       "1  893.5128 -40.233820  40.04859  2.990720 -0.008340  12.990720  5.293305   \n",
       "\n",
       "        y47       y48       y49       y50  \n",
       "0 -5.298317 -0.186278  0.912945  0.396850  \n",
       "1 -5.293305 -0.215690  0.867644  0.476954  "
      ]
     },
     "execution_count": 8,
     "metadata": {},
     "output_type": "execute_result"
    }
   ],
   "source": [
    "ideal_df.head(2)"
   ]
  },
  {
   "cell_type": "code",
   "execution_count": 9,
   "metadata": {},
   "outputs": [],
   "source": [
    "\n",
    "def sort_Tuple(tup):\n",
    " \n",
    "    return(sorted(tup, key = lambda x: x[1])) "
   ]
  },
  {
   "cell_type": "markdown",
   "metadata": {},
   "source": [
    "### Doctring Example"
   ]
  },
  {
   "cell_type": "code",
   "execution_count": 10,
   "metadata": {},
   "outputs": [],
   "source": [
    "def sort_Tuple(tup):\n",
    "    '''\n",
    "        Function to sort the list by second item of tuple.\n",
    "        This Python program to sort a list of tuples by the second Item using sorted().\n",
    "        Here reverse = None (Sorts in Ascending order)\n",
    "        ,key is set to sort using second element of\n",
    "        , sublist lambda has been used.\n",
    "        \n",
    "     '''\n",
    "    return(sorted(tup, key = lambda x: x[1]))"
   ]
  },
  {
   "cell_type": "code",
   "execution_count": 11,
   "metadata": {},
   "outputs": [],
   "source": [
    "def root_mean_square_error(pred, label):\n",
    "    error = (np.sum(np.square(pred-label)))/len(pred)\n",
    "    return error\n"
   ]
  },
  {
   "cell_type": "code",
   "execution_count": 12,
   "metadata": {},
   "outputs": [],
   "source": [
    "def maxdev(predictions, labels):\n",
    "    maxdev = np.max(np.abs((predictions-labels)))\n",
    "    return maxdev"
   ]
  },
  {
   "cell_type": "code",
   "execution_count": 13,
   "metadata": {},
   "outputs": [
    {
     "data": {
      "text/plain": [
       "8012.8228"
      ]
     },
     "execution_count": 13,
     "metadata": {},
     "output_type": "execute_result"
    }
   ],
   "source": [
    "maxdev(np.array(train_df.y3),np.array(ideal_df.y15))"
   ]
  },
  {
   "cell_type": "code",
   "execution_count": 14,
   "metadata": {},
   "outputs": [
    {
     "data": {
      "text/plain": [
       "1.4142135623730951"
      ]
     },
     "execution_count": 14,
     "metadata": {},
     "output_type": "execute_result"
    }
   ],
   "source": [
    "np.sqrt(2)"
   ]
  },
  {
   "cell_type": "code",
   "execution_count": 15,
   "metadata": {},
   "outputs": [
    {
     "data": {
      "text/plain": [
       "1.9112135623730953"
      ]
     },
     "execution_count": 15,
     "metadata": {},
     "output_type": "execute_result"
    }
   ],
   "source": [
    "max_dev_allowed = 0.497 + np.sqrt(2)\n",
    "max_dev_allowed\n"
   ]
  },
  {
   "cell_type": "code",
   "execution_count": 16,
   "metadata": {},
   "outputs": [
    {
     "data": {
      "text/plain": [
       "1.9000000000000004"
      ]
     },
     "execution_count": 16,
     "metadata": {},
     "output_type": "execute_result"
    }
   ],
   "source": [
    "12.5-10.6"
   ]
  },
  {
   "cell_type": "code",
   "execution_count": 17,
   "metadata": {},
   "outputs": [],
   "source": [
    "class Rectangle:\n",
    "    def __init__(self, length, width):\n",
    "        self.length = length\n",
    "        self.width = width\n",
    "\n",
    "    def area(self):\n",
    "        return self.length * self.width\n",
    "\n",
    "    def perimeter(self):\n",
    "        return 2 * self.length + 2 * self.width\n",
    "\n",
    "class Square:\n",
    "    def __init__(self, length):\n",
    "        self.length = length\n",
    "\n",
    "    def area(self):\n",
    "        return self.length * self.length\n",
    "\n",
    "    def perimeter(self):\n",
    "        return 4 * self.length"
   ]
  },
  {
   "cell_type": "code",
   "execution_count": 18,
   "metadata": {},
   "outputs": [
    {
     "data": {
      "text/plain": [
       "16"
      ]
     },
     "execution_count": 18,
     "metadata": {},
     "output_type": "execute_result"
    }
   ],
   "source": [
    "square = Square(4)\n",
    "square.area()"
   ]
  },
  {
   "cell_type": "code",
   "execution_count": 19,
   "metadata": {},
   "outputs": [
    {
     "data": {
      "text/plain": [
       "8"
      ]
     },
     "execution_count": 19,
     "metadata": {},
     "output_type": "execute_result"
    }
   ],
   "source": [
    "rectangle = Rectangle(2,4)\n",
    "rectangle.area()"
   ]
  },
  {
   "cell_type": "code",
   "execution_count": 20,
   "metadata": {},
   "outputs": [],
   "source": [
    "class Rectangle:\n",
    "    def __init__(self, length, width):\n",
    "        self.length = length\n",
    "        self.width = width\n",
    "\n",
    "    def area(self):\n",
    "        return self.length * self.width\n",
    "\n",
    "    def perimeter(self):\n",
    "        return 2 * self.length + 2 * self.width\n",
    "\n",
    "# Here we declare that the Square class inherits from the Rectangle class\n",
    "class Square(Rectangle):\n",
    "    def __init__(self, length):\n",
    "        super().__init__(length, length)"
   ]
  },
  {
   "cell_type": "code",
   "execution_count": 21,
   "metadata": {},
   "outputs": [
    {
     "data": {
      "text/plain": [
       "16"
      ]
     },
     "execution_count": 21,
     "metadata": {},
     "output_type": "execute_result"
    }
   ],
   "source": [
    "square = Square(4)\n",
    "square.area()"
   ]
  },
  {
   "cell_type": "code",
   "execution_count": 22,
   "metadata": {},
   "outputs": [],
   "source": [
    "# isinheritance(Rectangle, Square)"
   ]
  },
  {
   "cell_type": "markdown",
   "metadata": {},
   "source": []
  },
  {
   "cell_type": "code",
   "execution_count": 23,
   "metadata": {},
   "outputs": [],
   "source": [
    "class Square(Rectangle):\n",
    "    def __init__(self, length):\n",
    "        super().__init__(length, length)\n",
    "\n",
    "class Cube(Square):\n",
    "    def surface_area(self):\n",
    "        face_area = super().area()\n",
    "        return face_area * 6\n",
    "\n",
    "    def volume(self):\n",
    "        face_area = super().area()\n",
    "        return face_area * self.length"
   ]
  },
  {
   "cell_type": "code",
   "execution_count": 24,
   "metadata": {},
   "outputs": [
    {
     "data": {
      "text/plain": [
       "54"
      ]
     },
     "execution_count": 24,
     "metadata": {},
     "output_type": "execute_result"
    }
   ],
   "source": [
    "cube = Cube(3)\n",
    "cube.surface_area()"
   ]
  },
  {
   "cell_type": "markdown",
   "metadata": {},
   "source": [
    "# making finding best fit class"
   ]
  },
  {
   "cell_type": "code",
   "execution_count": 25,
   "metadata": {},
   "outputs": [],
   "source": [
    "class Select_best_features:\n",
    "    def __init__(self, train_data, ideal_data):\n",
    "        self.train_len = train_data.shape[0]\n",
    "        self.ideal_len = ideal_data.shape[0]\n",
    "        self.train_target_feature = train_data.columns[1:]\n",
    "        self.ideal_target_feature = ideal_data.columns[1:]\n",
    "        self.ideal_target_data = ideal_df.iloc[0:,1:]\n",
    "        self.train_target_data = train_df.iloc[0:, 1:]\n",
    "        self.ideal_feat_prediction = ideal_df.iloc[0:, 0:1]\n",
    "        self.train_feat_prediction = train_df.iloc[0:, 0:1]\n",
    "        \n",
    "    def lowest_root_mean_square_error_label(self, train_feature):\n",
    "        error_list = []\n",
    "        for i in self.ideal_target_feature:\n",
    "            prediction = np.array(self.ideal_target_data[i])\n",
    "            label = np.array(self.train_target_data[train_feature])\n",
    "            error = root_mean_square_error(prediction, label)\n",
    "            label_error_tuple= i, round(error, 2)\n",
    "            error_list.append(label_error_tuple)\n",
    "\n",
    "        error_list_sorted = sort_Tuple(error_list)\n",
    "        return error_list_sorted[0]\n",
    "    \n",
    "    def lowest_root_mean_square_error_all_labels(self):\n",
    "        best_label_list = []\n",
    "        for train_col in self.train_target_feature:\n",
    "            best_label = self.lowest_root_mean_square_error_label(train_col)\n",
    "            best_label_list.append(best_label)\n",
    "        col_list = self.train_target_feature\n",
    "    \n",
    "        return dict((zip(col_list,best_label_list )))"
   ]
  },
  {
   "cell_type": "code",
   "execution_count": 26,
   "metadata": {},
   "outputs": [],
   "source": [
    "class Test_cases(Select_best_features):\n",
    "    def train_ideal_max_dev(self):\n",
    "        train_ideal_func_dict = super().lowest_root_mean_square_error_all_labels()\n",
    "        max_dev_list = []\n",
    "        for feature in  self.train_target_feature:\n",
    "            #print(feature)\n",
    "            ideal_feat = train_ideal_func_dict[feature][0]\n",
    "            print(feature, ideal_feat)\n",
    "            max_dev_ = maxdev(self.train_target_data[feature], self.ideal_target_data[ideal_feat])\n",
    "            max_dev_list.append(max_dev_)\n",
    "            print(max_dev_list, '\\n')"
   ]
  },
  {
   "cell_type": "code",
   "execution_count": 27,
   "metadata": {},
   "outputs": [
    {
     "name": "stdout",
     "output_type": "stream",
     "text": [
      "y1 y26\n",
      "[0.49949999999989814] \n",
      "\n",
      "y2 y30\n",
      "[0.49949999999989814, 0.49929999999994834] \n",
      "\n",
      "y3 y21\n",
      "[0.49949999999989814, 0.49929999999994834, 0.49949999999989814] \n",
      "\n",
      "y4 y28\n",
      "[0.49949999999989814, 0.49929999999994834, 0.49949999999989814, 0.49969999999984793] \n",
      "\n"
     ]
    }
   ],
   "source": [
    "tc = Test_cases(train_df, ideal_df)\n",
    "tc.train_ideal_max_dev()"
   ]
  },
  {
   "cell_type": "code",
   "execution_count": 28,
   "metadata": {},
   "outputs": [],
   "source": [
    "class Test_cases(Select_best_features):\n",
    "    def train_ideal_max_dev(self):\n",
    "        train_ideal_func_dict = super().lowest_root_mean_square_error_all_labels()\n",
    "        max_dev_list = []\n",
    "        for feature in  self.train_target_feature:\n",
    "            ideal_feat = train_ideal_func_dict[feature][0]\n",
    "            max_dev_ = maxdev(self.train_target_data[feature], self.ideal_target_data[ideal_feat])\n",
    "            max_dev_list.append(round(max_dev_, 3))\n",
    "        return dict((zip(self.train_target_feature, max_dev_list )))"
   ]
  },
  {
   "cell_type": "code",
   "execution_count": 29,
   "metadata": {},
   "outputs": [
    {
     "data": {
      "text/plain": [
       "{'y1': 0.499, 'y2': 0.499, 'y3': 0.499, 'y4': 0.5}"
      ]
     },
     "execution_count": 29,
     "metadata": {},
     "output_type": "execute_result"
    }
   ],
   "source": [
    "tc = Test_cases(train_df, ideal_df)\n",
    "tc.train_ideal_max_dev()"
   ]
  }
 ],
 "metadata": {
  "kernelspec": {
   "display_name": "Python 3 (ipykernel)",
   "language": "python",
   "name": "python3"
  },
  "language_info": {
   "codemirror_mode": {
    "name": "ipython",
    "version": 3
   },
   "file_extension": ".py",
   "mimetype": "text/x-python",
   "name": "python",
   "nbconvert_exporter": "python",
   "pygments_lexer": "ipython3",
   "version": "3.9.12"
  }
 },
 "nbformat": 4,
 "nbformat_minor": 2
}
